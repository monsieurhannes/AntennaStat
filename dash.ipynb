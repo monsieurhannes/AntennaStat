{
 "cells": [
  {
   "cell_type": "markdown",
   "id": "ad6188aa-12ea-4eab-a557-ef0c83d210a3",
   "metadata": {},
   "source": [
    "## Import and data structuring"
   ]
  },
  {
   "cell_type": "code",
   "execution_count": null,
   "id": "73b04c89-2bba-4cd5-851f-f96c185ab77d",
   "metadata": {},
   "outputs": [],
   "source": [
    "import os\n",
    "import sqlite3\n",
    "import pandas as pd\n",
    "\n",
    "# ## Note: The code currently assumes that the database file is called \"AntennaPodBackup.db\" and is one directory above the cloned github folder.\n",
    "# con = sqlite3.connect(os.path.join((os.path.dirname(os.getcwd())),\"AntennaPodBackup-2022-01-23.db\"))"
   ]
  },
  {
   "cell_type": "code",
   "execution_count": null,
   "id": "ffbda405-f356-459d-8ccc-f4a92dec8550",
   "metadata": {},
   "outputs": [],
   "source": [
    "import tkinter as tk\n",
    "from tkinter import ttk\n",
    "from tkinter import filedialog as fd\n",
    "from tkinter.messagebox import showinfo\n",
    "from tkinter import *\n",
    "\n",
    "# create the root window\n",
    "root = tk.Tk()\n",
    "root.title('Tkinter Open File Dialog')\n",
    "root.resizable(False, False)\n",
    "root.geometry('300x150')\n",
    "\n",
    "\n",
    "def select_file():\n",
    "    filetypes = (\n",
    "        ('database files', '*.db'),\n",
    "        ('All files', '*.*')\n",
    "    )\n",
    "\n",
    "    filename = fd.askopenfilename(\n",
    "        title='Open a file',\n",
    "        initialdir='/',\n",
    "        filetypes=filetypes)\n",
    "\n",
    "    showinfo(\n",
    "        title='Selected File',\n",
    "        message=filename\n",
    "    )\n",
    "\n",
    "\n",
    "# open button\n",
    "open_button = ttk.Button(\n",
    "    root,\n",
    "    text='Open a File',\n",
    "    command=select_file\n",
    ")\n",
    "\n",
    "open_button.pack(expand=True)\n",
    "\n",
    "\n",
    "# run the application\n",
    "root.mainloop()\n",
    "\n",
    "con = sqlite3.connect(os.path.join(filename))"
   ]
  },
  {
   "cell_type": "code",
   "execution_count": null,
   "id": "fa9bad86-a449-4bcb-98a9-29570edda4b4",
   "metadata": {
    "tags": []
   },
   "outputs": [],
   "source": [
    "# Read tables\n",
    "FeedMedia = pd.read_sql_query(\"SELECT * from FeedMedia\", con)\n",
    "FeedItems = pd.read_sql_query(\"SELECT * from FeedItems\", con)\n",
    "Feeds = pd.read_sql_query(\"SELECT * from Feeds\", con)"
   ]
  },
  {
   "cell_type": "code",
   "execution_count": null,
   "id": "359fbd1f-4fdc-47ed-b5cd-0d16dbd74788",
   "metadata": {},
   "outputs": [],
   "source": [
    "# convert timestamp in ms to datetime objects (why are they in milliseconds?!)\n",
    "FeedMedia.last_played_time = pd.to_datetime(FeedMedia.last_played_time, unit='ms')\n",
    "FeedMedia.playback_completion_date = pd.to_datetime(FeedMedia.playback_completion_date, unit='ms')\n",
    "FeedItems.pubDate = pd.to_datetime(FeedItems.pubDate, unit='ms')"
   ]
  },
  {
   "cell_type": "code",
   "execution_count": null,
   "id": "65c2a997-40ac-49a4-a059-a2f95ccf78d7",
   "metadata": {},
   "outputs": [],
   "source": [
    "# for future analysis it might be useful to have the years, months and days ready\n",
    "# FeedMedia['lpt_year']= FeedMedia['last_played_time'].dt.year\n",
    "# FeedMedia['lpt_month']= FeedMedia['last_played_time'].dt.month\n",
    "# FeedMedia['lpt_day']= FeedMedia['last_played_time'].dt.day\n",
    "# FeedMedia['lpt_weekday']= FeedMedia['last_played_time'].dt.dayofweek\n",
    "# FeedMedia['duration']= FeedMedia['duration']/1000/60\n",
    "FeedMedia['percentage_played']= FeedMedia['position']/FeedMedia['duration']\n",
    "# FeedMedia[\"duration\"] = pd.to_timedelta(FeedMedia[\"duration\"],unit=\"ms\")\n",
    "# FeedMedia['pcd_year']= FeedMedia['playback_completion_date'].dt.year\n",
    "# FeedMedia['pcd_month']= FeedMedia['playback_completion_date'].dt.month\n",
    "# FeedMedia['pcd_day']= FeedMedia['playback_completion_date'].dt.day\n",
    "\n",
    "df = pd.merge(FeedMedia, FeedItems, left_on='feeditem', right_on='id', suffixes=('_media', '_item'))\n",
    "df = pd.merge(df, Feeds, left_on='feed', right_on='id', suffixes=('', '_feed'))\n",
    "\n",
    "df.percentage_played.fillna(0,inplace=True)\n",
    "\n",
    "df[\"pub_year\"] = df[\"pubDate\"].dt.year"
   ]
  },
  {
   "cell_type": "markdown",
   "id": "44724bff-e0a8-4cab-b9dd-bd344e080208",
   "metadata": {},
   "source": [
    "## Dash part"
   ]
  },
  {
   "cell_type": "code",
   "execution_count": null,
   "id": "580d763d-f740-43ee-8141-b9266501f2c5",
   "metadata": {},
   "outputs": [],
   "source": [
    "from jupyter_dash import JupyterDash\n",
    "from dash import html\n",
    "from dash import dcc\n",
    "from dash.dependencies import Input, Output\n",
    "import plotly.express as px"
   ]
  },
  {
   "cell_type": "code",
   "execution_count": null,
   "id": "311b0949-1f9b-4ff1-9ff8-48f4f63b8106",
   "metadata": {},
   "outputs": [],
   "source": [
    "app = JupyterDash(__name__)\n",
    "\n",
    "app.layout = html.Div(children = [\n",
    "    dcc.Dropdown(\n",
    "        id=\"podcasts\", \n",
    "        placeholder=\"Select some podcasts\", \n",
    "        clearable=False, \n",
    "        options=[{\"label\": y, \"value\": y} for y in df[\"title_feed\"].unique()],\n",
    "        multi=True\n",
    "    ),\n",
    "    dcc.RangeSlider(\n",
    "        id='year_slider',\n",
    "        min=1990,\n",
    "        max=2030,\n",
    "        step=1,\n",
    "        value=[2018, 2022],\n",
    "        tooltip={\"placement\": \"bottom\", \"always_visible\": True}\n",
    "    ),\n",
    "    dcc.Graph(id=\"release\", figure={}),\n",
    "              \n",
    "    dcc.Graph(id=\"bar-plot\", figure={}),\n",
    "    ])\n",
    "    \n",
    "    \n",
    "@app.callback(Output(\"release\", \"figure\"),\n",
    "              Input(\"year_slider\", \"value\"),\n",
    "              Input(\"podcasts\", \"value\"))\n",
    "def year_range(year_slider,podcasts):\n",
    "    # Scatter plot with weekday and duration in minutes\n",
    "    df1 = df[df.playback_completion_date.dt.year.isin(range(year_slider[0],year_slider[1]))]\n",
    "    if podcasts:\n",
    "        df2 = df1[df1.title_feed.isin(podcasts)]\n",
    "        fig = px.scatter(df2[df2[\"percentage_played\"]>0], \n",
    "                 template=\"plotly_dark\",\n",
    "                 color_discrete_sequence=px.colors.qualitative.Bold,\n",
    "                 y=\"duration\", \n",
    "                 x=\"pubDate\", \n",
    "                 color=\"title_feed\", \n",
    "                 size = \"percentage_played\", \n",
    "                 height=500, \n",
    "                 range_x=year_slider,\n",
    "                 )\n",
    "    \n",
    "    else:\n",
    "        fig = px.scatter(df1[df1[\"percentage_played\"]>0], \n",
    "                 template=\"plotly_dark\",\n",
    "                 color_discrete_sequence=px.colors.qualitative.Bold,\n",
    "                 y=\"duration\", \n",
    "                 x=\"pubDate\", \n",
    "                 color=\"title_feed\", \n",
    "                 size = \"percentage_played\", \n",
    "                 height=500, \n",
    "                 range_x=year_slider,\n",
    "                 )\n",
    "        \n",
    "    return fig.update_layout(font_family=\"Rockwell\",\n",
    "                             showlegend=False,\n",
    "                             legend=(dict(orientation=\"h\", \n",
    "                                          title=\"\", \n",
    "                                         )))\n",
    "\n",
    "@app.callback(Output(\"bar-plot\", \"figure\"),\n",
    "              Input(\"year_slider\", \"value\"),\n",
    "              Input(\"podcasts\", \"value\"))\n",
    "def party(year_slider,podcasts):\n",
    "    df1 = df[df.playback_completion_date.dt.year.isin(range(year_slider[0],year_slider[1]))]\n",
    "    if podcasts:\n",
    "        df2 = df1[df1.title_feed.isin(podcasts)]\n",
    "        fig2 = px.bar(df2[df2[\"played_duration\"]>0],\n",
    "           template=\"plotly_dark\",\n",
    "           x=df2['playback_completion_date'].dt.dayofweek, \n",
    "           y=df2[\"played_duration\"]/1000/60,\n",
    "           color=df2['playback_completion_date'].dt.year.astype(str),\n",
    "           color_discrete_sequence=px.colors.qualitative.Bold)\n",
    "    \n",
    "    else:\n",
    "        fig2 = px.bar(df1[df1[\"played_duration\"]>0],\n",
    "           template=\"plotly_dark\",\n",
    "           x=df1['playback_completion_date'].dt.dayofweek, \n",
    "           y=df1[\"played_duration\"]/1000/60,\n",
    "           color=df1['playback_completion_date'].dt.year.astype(str),\n",
    "           color_discrete_sequence=px.colors.qualitative.Bold)\n",
    "        \n",
    "    return fig2.update_layout(font_family=\"Rockwell\",\n",
    "                             showlegend=False,\n",
    "                             legend=(dict(orientation=\"h\", \n",
    "                                          title=\"\", \n",
    "                                         )))\n",
    "    \n",
    "app.run_server(mode=\"jupyterlab\")"
   ]
  },
  {
   "cell_type": "code",
   "execution_count": null,
   "id": "4e012a84-a5fb-427e-a57a-810899dea9b7",
   "metadata": {},
   "outputs": [],
   "source": [
    "list(df.columns.values)"
   ]
  },
  {
   "cell_type": "code",
   "execution_count": null,
   "id": "c0135e30-f9f2-4ff6-baf7-5dc60b1487f4",
   "metadata": {},
   "outputs": [],
   "source": [
    "# Scatter plot with weekday and duration in minutes\n",
    "fig = px.scatter(df[df[\"lpt_year\"] != 1970],\n",
    "                 color_discrete_sequence=px.colors.qualitative.Vivid,\n",
    "                 template=\"plotly_dark\",\n",
    "                 y=\"duration\",\n",
    "                 x=\"lpt_weekday\", \n",
    "                 color=\"lpt_month\", \n",
    "                 size=\"percentage_played\", \n",
    "                 hover_name=\"title_feed\",\n",
    "                 hover_data={\"title\" : True,\n",
    "                             \"lpt_weekday\" : False,\n",
    "                             \"lpt_month\" : False,\n",
    "                             \"percentage_played\" : False,\n",
    "                             \"duration\" : True,},\n",
    "                 title=\"Played Episodes\",\n",
    "                 height=500)\n",
    "fig.update_layout(font_family=\"Rockwell\",\n",
    "                  legend=(dict(orientation=\"h\", title=\"\")))"
   ]
  },
  {
   "cell_type": "code",
   "execution_count": null,
   "id": "b40228c2-0112-4119-840c-25333f132261",
   "metadata": {},
   "outputs": [],
   "source": [
    "# Scatter plot with weekday and duration in minutes\n",
    "fig = px.scatter(df, \n",
    "                 y=\"duration_minutes\", \n",
    "                 x=\"pub_year\", \n",
    "                 color=\"title_feed\", \n",
    "                 size = \"percentage_played\", \n",
    "                 height=500, \n",
    "                 range_x=[2000,2025])\n",
    "fig.update_layout(font_family=\"Rockwell\",\n",
    "                  legend=(dict(orientation=\"v\", title=\"\")))"
   ]
  },
  {
   "cell_type": "code",
   "execution_count": null,
   "id": "e07d99b7-756e-48c6-b33b-071662a51401",
   "metadata": {},
   "outputs": [],
   "source": [
    "df"
   ]
  },
  {
   "cell_type": "code",
   "execution_count": null,
   "id": "2e7caed6-3219-421e-8606-4dd823ca798a",
   "metadata": {
    "tags": []
   },
   "outputs": [],
   "source": [
    "df3 = df[df[\"lpt_year\"]>1970].groupby(by=[\"lpt_year\",\n",
    "                                          #\"lpt_month\"\n",
    "                                         ]).sum()\n",
    "px.line(df3,\n",
    "           template=\"plotly_dark\",\n",
    "           y=\"duration_minutes\",\n",
    "           x=\"lpt_month\",#df3.index,#.get_level_values(0), \n",
    "           height=500,\n",
    "           color=df3.index)"
   ]
  },
  {
   "cell_type": "code",
   "execution_count": null,
   "id": "122293fd-8ec2-467a-bf9d-2f42cd43d56a",
   "metadata": {},
   "outputs": [],
   "source": [
    "px.bar(df[df[\"played_duration\"]>0],#.groupby(['playback_completion_date'].dt.dayofweek),\n",
    "       x=df['playback_completion_date'].dt.dayofweek, \n",
    "       y=df[\"played_duration\"]/1000/60\n",
    "      )"
   ]
  },
  {
   "cell_type": "code",
   "execution_count": null,
   "id": "ebbff68a-fa5c-4abc-a3a6-f0604cab4f4e",
   "metadata": {},
   "outputs": [],
   "source": [
    "df[\"played_duration\"]"
   ]
  }
 ],
 "metadata": {
  "kernelspec": {
   "display_name": "Python 3 (ipykernel)",
   "language": "python",
   "name": "python3"
  },
  "language_info": {
   "codemirror_mode": {
    "name": "ipython",
    "version": 3
   },
   "file_extension": ".py",
   "mimetype": "text/x-python",
   "name": "python",
   "nbconvert_exporter": "python",
   "pygments_lexer": "ipython3",
   "version": "3.9.9"
  }
 },
 "nbformat": 4,
 "nbformat_minor": 5
}
